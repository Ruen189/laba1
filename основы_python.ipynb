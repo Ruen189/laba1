{
  "cells": [
    {
      "cell_type": "markdown",
      "metadata": {
        "id": "M-DGa20PaHnu"
      },
      "source": [
        "#Задача 1\n",
        "Написать функцию на вход которой подается строка, состоящая из латинских букв.\n",
        "Функция должна вернуть количество гласных букв (a, e, i, o, u) в этой строке. Написать тесты для кода"
      ]
    },
    {
      "cell_type": "code",
      "execution_count": 16,
      "metadata": {
        "id": "XvX8X_JJ6PCb"
      },
      "outputs": [
        {
          "name": "stdout",
          "output_type": "stream",
          "text": [
            "2\n",
            "2\n",
            "0\n"
          ]
        }
      ],
      "source": [
        "def count_vowels(s):\n",
        "    vowels = \"aeiouAEIOU\"  \n",
        "    return sum(1 for char in s if char in vowels)\n",
        "\n",
        "# тест\n",
        "print(count_vowels(\"hello\"))  # 2\n",
        "print(count_vowels(\"HELLO\"))  # 2\n",
        "print(count_vowels(\"bcdfg\"))  # 0\n"
      ]
    },
    {
      "cell_type": "markdown",
      "metadata": {
        "id": "t2ClV_Y0bbr6"
      },
      "source": [
        "# Задача 2\n",
        "Написать функцию на вход, которой подается строка. Функция должна вернуть true, если\n",
        "каждый символ в строке встречается только 1 раз, иначе должна вернуть false. Написать тесты для кода"
      ]
    },
    {
      "cell_type": "code",
      "execution_count": 17,
      "metadata": {
        "id": "FppbECao6VIz"
      },
      "outputs": [
        {
          "name": "stdout",
          "output_type": "stream",
          "text": [
            "True\n",
            "False\n",
            "True\n"
          ]
        }
      ],
      "source": [
        "def all_unique(s):\n",
        "    return len(s) == len(set(s))\n",
        "\n",
        "# тест\n",
        "print(all_unique(\"abcde\"))  # True\n",
        "print(all_unique(\"aabbcc\"))  # False\n",
        "print(all_unique(\"abcdefg\"))  # True\n"
      ]
    },
    {
      "cell_type": "markdown",
      "metadata": {
        "id": "udRiIK1cdt6E"
      },
      "source": [
        "# Задача 3\n",
        "Написать функцию, которая принимает положительное число и возвращает количество\n",
        "бит равных 1 в этом числе. Написать тесты для кода"
      ]
    },
    {
      "cell_type": "code",
      "execution_count": 18,
      "metadata": {
        "id": "6tkfDJRz6dp_"
      },
      "outputs": [
        {
          "name": "stdout",
          "output_type": "stream",
          "text": [
            "3\n",
            "2\n",
            "0\n"
          ]
        }
      ],
      "source": [
        "def count_bits(n):\n",
        "    return bin(n).count('1')\n",
        "\n",
        "# тест\n",
        "print(count_bits(7))  # 3, т.к. 7 = 111\n",
        "print(count_bits(10))  # 2, т.к. 10 = 1010\n",
        "print(count_bits(0))  # 0\n"
      ]
    },
    {
      "cell_type": "markdown",
      "metadata": {
        "id": "26dDUz-Ae17N"
      },
      "source": [
        "# Задача 4\n",
        "Написать функцию, которая принимает положительное число. Функция должна вернуть то,\n",
        "сколько раз необходимо перемножать цифры числа или результат перемножения, чтобы\n",
        "получилось число состоящее из одной цифры.\n",
        "Например, для входного числа:\n",
        "· 39 функция должна вернуть 3, так как 3*9=27 => 2*7=14 => 1*4=4\n",
        "· 4 функция должна вернуть 0, так как число уже состоит из одной цифры\n",
        "· 999 функция должна вернуть 4, так как 9*9*9=729 => 7*2*9=126 => 1*2*6=12 =>\n",
        "1*2=2. Написать тесты для кода"
      ]
    },
    {
      "cell_type": "code",
      "execution_count": 19,
      "metadata": {
        "id": "BH1A_Mgi6i4G"
      },
      "outputs": [
        {
          "name": "stdout",
          "output_type": "stream",
          "text": [
            "3\n",
            "4\n",
            "0\n"
          ]
        }
      ],
      "source": [
        "def magic(n):\n",
        "    count = 0\n",
        "    while n >= 10:  \n",
        "        product = 1\n",
        "        for digit in str(n):  \n",
        "            product *= int(digit)\n",
        "        n = product\n",
        "        count += 1  \n",
        "    return count\n",
        "\n",
        "# тест\n",
        "print(magic(39))  # Ожидается: 3\n",
        "print(magic(999))  # Ожидается: 4\n",
        "print(magic(4))  # Ожидается: 0\n"
      ]
    },
    {
      "cell_type": "markdown",
      "metadata": {
        "id": "0nS-kIa8g8vd"
      },
      "source": [
        "# Задача 5\n",
        "Написать функцию, которая принимает два целочисленных вектора одинаковой длины и\n",
        "возвращает среднеквадратическое отклонение двух векторов. Написать тесты для кода"
      ]
    },
    {
      "cell_type": "code",
      "execution_count": 20,
      "metadata": {
        "id": "8iphx4LM6xbx"
      },
      "outputs": [
        {
          "name": "stdout",
          "output_type": "stream",
          "text": [
            "0.3333333333333333\n",
            "0.0\n"
          ]
        }
      ],
      "source": [
        "def mse(pred, true):\n",
        "    if len(pred) != len(true):\n",
        "        raise ValueError(\"Векторы должны быть одинаковой длины\")\n",
        "    squared_diff = [(p - t) ** 2 for p, t in zip(pred, true)]  \n",
        "    return sum(squared_diff) / len(pred)  \n",
        "\n",
        "# тест\n",
        "print(mse([1, 2, 3], [1, 2, 4]))  # Ожидается: 0.3333...\n",
        "print(mse([1, 2, 3], [1, 2, 3]))  # Ожидается: 0.0\n"
      ]
    },
    {
      "cell_type": "markdown",
      "metadata": {
        "id": "vpIPKL439zkw"
      },
      "source": [
        "# Задача 6\n",
        "Написать функцию, принимающая целое положительное число. Функция должна вернуть\n",
        "строку вида “(n1**p1)(n2**p2)…(nk**pk)” представляющая разложение числа на простые\n",
        "множители (если pi == 1, то выводить только ni).\n",
        "Например, для числа 86240 функция должна вернуть “(2**5)(5)(7**2)(11)”. Написать тесты для кода"
      ]
    },
    {
      "cell_type": "code",
      "execution_count": 21,
      "metadata": {
        "id": "pFebmcZk94Jw"
      },
      "outputs": [
        {
          "name": "stdout",
          "output_type": "stream",
          "text": [
            "(2**5)(5)(7**2)(11)\n",
            "(2)(3)(5)\n"
          ]
        }
      ],
      "source": [
        "from collections import Counter\n",
        "\n",
        "def prime_factors(n):\n",
        "    i = 2\n",
        "    factors = []\n",
        "    while i * i <= n:\n",
        "        if n % i:\n",
        "            i += 1\n",
        "        else:\n",
        "            n //= i\n",
        "            factors.append(i)\n",
        "    if n > 1:\n",
        "        factors.append(n)\n",
        "    return factors\n",
        "\n",
        "def prime_factor_representation(n):\n",
        "    factors = prime_factors(n)\n",
        "    factor_count = Counter(factors)\n",
        "    result = ''.join(f\"({factor}**{count})\" if count > 1 else f\"({factor})\" for factor, count in sorted(factor_count.items()))\n",
        "    return result\n",
        "\n",
        "# тест\n",
        "print(prime_factor_representation(86240))  # Ожидается: (2**5)(5)(7**2)(11)\n",
        "print(prime_factor_representation(30))  # Ожидается: (2)(3)(5)\n"
      ]
    },
    {
      "cell_type": "markdown",
      "metadata": {
        "id": "ps2s0BudX7A2"
      },
      "source": [
        "# Задача 7\n",
        "Написать функцию, принимающая целое число n, задающее количество кубиков. Функция\n",
        "должна определить, можно ли из данного кол-ва кубиков построить пирамиду, то есть\n",
        "можно ли представить число n как 1^2+2^2+3^2+…+k^2. Если можно, то функция должна\n",
        "вернуть k, иначе строку “It is impossible”. Написать тесты для кода"
      ]
    },
    {
      "cell_type": "code",
      "execution_count": 22,
      "metadata": {
        "id": "3YPjEXxhX_YT"
      },
      "outputs": [
        {
          "name": "stdout",
          "output_type": "stream",
          "text": [
            "3\n",
            "4\n",
            "1\n",
            "5\n",
            "It is impossible\n",
            "It is impossible\n",
            "It is impossible\n"
          ]
        }
      ],
      "source": [
        "def pyramid_height(n):\n",
        "    total = 0  \n",
        "    k = 0      \n",
        "\n",
        "    while total < n:\n",
        "        k += 1\n",
        "        total += k ** 2\n",
        "\n",
        "    if total == n and n>0:\n",
        "        return k\n",
        "    else:\n",
        "        return \"It is impossible\"\n",
        "\n",
        "# тест\n",
        "print(pyramid_height(14))  # Ожидается: 3\n",
        "print(pyramid_height(30))  # Ожидается: 4\n",
        "print(pyramid_height(1))   # Ожидается: 1\n",
        "print(pyramid_height(55))  # Ожидается: 5\n",
        "print(pyramid_height(-1))  # Ожидается: \"It is impossible\"\n",
        "print(pyramid_height(0))   # Ожидается: \"It is impossible\", т.к. ноль не может образовать пирамиду\n",
        "print(pyramid_height(2))   # Ожидается: \"It is impossible\"\n"
      ]
    },
    {
      "cell_type": "markdown",
      "metadata": {
        "id": "KeKgmIdAQMEJ"
      },
      "source": [
        "# Задача 8\n",
        "Функция принимает на вход положительное число и определяет является ли оно сбалансированным, т.е. сумма цифр до средних равна сумме цифр после. Средними в случае нечетного числа цифр считать одну цифру, в случае четного - две средних. Написать тесты для кода"
      ]
    },
    {
      "cell_type": "code",
      "execution_count": 23,
      "metadata": {
        "id": "gMAAqtqlQrZt"
      },
      "outputs": [
        {
          "name": "stdout",
          "output_type": "stream",
          "text": [
            "True\n",
            "False\n"
          ]
        }
      ],
      "source": [
        "def is_balanced(number):\n",
        "    str_number = str(number)\n",
        "    length = len(str_number)\n",
        "    \n",
        "    if length == 1:\n",
        "        return True  \n",
        "    \n",
        "    if length % 2 == 0:\n",
        "        left_sum = sum(int(digit) for digit in str_number[:length // 2])\n",
        "        right_sum = sum(int(digit) for digit in str_number[length // 2:])\n",
        "    else:\n",
        "        left_sum = sum(int(digit) for digit in str_number[:length // 2])\n",
        "        right_sum = sum(int(digit) for digit in str_number[length // 2 + 1:])\n",
        "    \n",
        "    return left_sum == right_sum\n",
        "\n",
        "# тест\n",
        "print(is_balanced(1230))  # Ожидается: True (1 + 2 == 3 + 0)\n",
        "print(is_balanced(123))   # Ожидается: False (1 != 3)\n"
      ]
    },
    {
      "cell_type": "code",
      "execution_count": null,
      "metadata": {},
      "outputs": [],
      "source": []
    }
  ],
  "metadata": {
    "colab": {
      "provenance": []
    },
    "kernelspec": {
      "display_name": "Python 3",
      "name": "python3"
    },
    "language_info": {
      "codemirror_mode": {
        "name": "ipython",
        "version": 3
      },
      "file_extension": ".py",
      "mimetype": "text/x-python",
      "name": "python",
      "nbconvert_exporter": "python",
      "pygments_lexer": "ipython3",
      "version": "3.12.5"
    }
  },
  "nbformat": 4,
  "nbformat_minor": 0
}
